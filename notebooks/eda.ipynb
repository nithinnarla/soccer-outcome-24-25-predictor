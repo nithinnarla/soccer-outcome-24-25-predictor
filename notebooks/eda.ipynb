{
 "cells": [
  {
   "cell_type": "markdown",
   "id": "b7ad113e",
   "metadata": {},
   "source": [
    "# Premier League 2024/25 EDA\n",
    "\n",
    "This notebook performs exploratory data analysis on the English Premier League 2024/25 season dataset. We inspect the raw match data, engineer features using an Elo rating system and recent form statistics, and visualize distributions and correlations.\n"
   ]
  },
  {
   "cell_type": "code",
   "execution_count": null,
   "id": "994168de",
   "metadata": {},
   "outputs": [],
   "source": [
    "\n",
    "import pandas as pd\n",
    "import matplotlib.pyplot as plt\n",
    "import seaborn as sns\n",
    "from src.data_preprocessing import create_feature_df\n",
    "\n",
    "# Configure matplotlib for Jupyter\n",
    "%matplotlib inline\n"
   ]
  },
  {
   "cell_type": "code",
   "execution_count": null,
   "id": "634d8ed4",
   "metadata": {},
   "outputs": [],
   "source": [
    "\n",
    "# Load raw match results\n",
    "raw_path = '../data/premier_league_2024_2025.csv'\n",
    "df = pd.read_csv(raw_path)\n",
    "df.head()\n"
   ]
  },
  {
   "cell_type": "code",
   "execution_count": null,
   "id": "35798f44",
   "metadata": {},
   "outputs": [],
   "source": [
    "\n",
    "print('Number of matches:', len(df))\n",
    "print('Columns:', df.columns.tolist())\n",
    "# Parse scores to compute goal differences\n",
    "from src.data_preprocessing import parse_score\n",
    "\n",
    "outcomes = []\n",
    "for res in df['Result']:\n",
    "    h, a = parse_score(res)\n",
    "    outcomes.append('Home Win' if h > a else ('Draw' if h == a else 'Away Win'))\n",
    "\n",
    "# Distribution of outcomes\n",
    "pd.Series(outcomes).value_counts()\n"
   ]
  },
  {
   "cell_type": "code",
   "execution_count": null,
   "id": "0da5e7c4",
   "metadata": {},
   "outputs": [],
   "source": [
    "\n",
    "import seaborn as sns\n",
    "sns.countplot(x=outcomes)\n",
    "plt.title('Distribution of Match Outcomes (2024/25 Season)')\n",
    "plt.xlabel('Outcome')\n",
    "plt.ylabel('Count')\n",
    "plt.show()\n"
   ]
  },
  {
   "cell_type": "code",
   "execution_count": null,
   "id": "d9432ffc",
   "metadata": {},
   "outputs": [],
   "source": [
    "\n",
    "features, target, feature_names, label_map = create_feature_df(raw_path)\n",
    "print('Engineered feature columns:', feature_names)\n",
    "features.head()\n"
   ]
  },
  {
   "cell_type": "code",
   "execution_count": null,
   "id": "0b2fc5a2",
   "metadata": {},
   "outputs": [],
   "source": [
    "\n",
    "plt.figure(figsize=(8,6))\n",
    "sns.heatmap(features.corr(), cmap='coolwarm', annot=True)\n",
    "plt.title('Correlation Matrix of Engineered Features')\n",
    "plt.show()\n"
   ]
  }
 ],
 "metadata": {},
 "nbformat": 4,
 "nbformat_minor": 5
}
